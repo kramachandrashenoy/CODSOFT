{
 "cells": [
  {
   "cell_type": "markdown",
   "id": "9b8cc4df",
   "metadata": {},
   "source": [
    "# Step 1: Import Dataset"
   ]
  },
  {
   "cell_type": "code",
   "execution_count": 21,
   "id": "150f4711",
   "metadata": {},
   "outputs": [],
   "source": [
    "import pandas as pd"
   ]
  },
  {
   "cell_type": "code",
   "execution_count": 22,
   "id": "0aa4f1b5",
   "metadata": {},
   "outputs": [],
   "source": [
    "with open('train_data.txt','r',encoding='utf-8') as file:\n",
    "    lines=file.readlines()\n",
    "    \n",
    "data=[]\n",
    "for line in lines:\n",
    "    parts=line.strip().split(' ::: ')\n",
    "    data.append(parts)\n",
    "    \n",
    "train=pd.DataFrame(data,columns=['ID','Title','Genre','Description'])\n",
    "\n",
    "train.to_csv('train.csv',index=False)"
   ]
  },
  {
   "cell_type": "code",
   "execution_count": 23,
   "id": "db8d6d7f",
   "metadata": {},
   "outputs": [],
   "source": [
    "with open('test_data_solution.txt','r',encoding='utf-8') as file:\n",
    "    lines=file.readlines()\n",
    "    \n",
    "data=[]\n",
    "for line in lines:\n",
    "    parts=line.strip().split(' ::: ')\n",
    "    data.append(parts)\n",
    "    \n",
    "test=pd.DataFrame(data,columns=['ID','Title','Genre','Description'])\n",
    "\n",
    "test.to_csv('test.csv',index=False)"
   ]
  },
  {
   "cell_type": "code",
   "execution_count": 24,
   "id": "e949dac1",
   "metadata": {},
   "outputs": [
    {
     "data": {
      "text/plain": [
       "(54214, 4)"
      ]
     },
     "execution_count": 24,
     "metadata": {},
     "output_type": "execute_result"
    }
   ],
   "source": [
    "train.shape"
   ]
  },
  {
   "cell_type": "code",
   "execution_count": 25,
   "id": "6497dd07",
   "metadata": {},
   "outputs": [
    {
     "data": {
      "text/plain": [
       "(54200, 4)"
      ]
     },
     "execution_count": 25,
     "metadata": {},
     "output_type": "execute_result"
    }
   ],
   "source": [
    "test.shape"
   ]
  },
  {
   "cell_type": "code",
   "execution_count": 26,
   "id": "436c7415",
   "metadata": {
    "scrolled": true
   },
   "outputs": [
    {
     "data": {
      "text/html": [
       "<div>\n",
       "<style scoped>\n",
       "    .dataframe tbody tr th:only-of-type {\n",
       "        vertical-align: middle;\n",
       "    }\n",
       "\n",
       "    .dataframe tbody tr th {\n",
       "        vertical-align: top;\n",
       "    }\n",
       "\n",
       "    .dataframe thead th {\n",
       "        text-align: right;\n",
       "    }\n",
       "</style>\n",
       "<table border=\"1\" class=\"dataframe\">\n",
       "  <thead>\n",
       "    <tr style=\"text-align: right;\">\n",
       "      <th></th>\n",
       "      <th>ID</th>\n",
       "      <th>Title</th>\n",
       "      <th>Genre</th>\n",
       "      <th>Description</th>\n",
       "    </tr>\n",
       "  </thead>\n",
       "  <tbody>\n",
       "    <tr>\n",
       "      <th>0</th>\n",
       "      <td>1</td>\n",
       "      <td>Oscar et la dame rose (2009)</td>\n",
       "      <td>drama</td>\n",
       "      <td>Listening in to a conversation between his doc...</td>\n",
       "    </tr>\n",
       "    <tr>\n",
       "      <th>1</th>\n",
       "      <td>2</td>\n",
       "      <td>Cupid (1997)</td>\n",
       "      <td>thriller</td>\n",
       "      <td>A brother and sister with a past incestuous re...</td>\n",
       "    </tr>\n",
       "    <tr>\n",
       "      <th>2</th>\n",
       "      <td>3</td>\n",
       "      <td>Young, Wild and Wonderful (1980)</td>\n",
       "      <td>adult</td>\n",
       "      <td>As the bus empties the students for their fiel...</td>\n",
       "    </tr>\n",
       "    <tr>\n",
       "      <th>3</th>\n",
       "      <td>4</td>\n",
       "      <td>The Secret Sin (1915)</td>\n",
       "      <td>drama</td>\n",
       "      <td>To help their unemployed father make ends meet...</td>\n",
       "    </tr>\n",
       "    <tr>\n",
       "      <th>4</th>\n",
       "      <td>5</td>\n",
       "      <td>The Unrecovered (2007)</td>\n",
       "      <td>drama</td>\n",
       "      <td>The film's title refers not only to the un-rec...</td>\n",
       "    </tr>\n",
       "  </tbody>\n",
       "</table>\n",
       "</div>"
      ],
      "text/plain": [
       "  ID                             Title     Genre  \\\n",
       "0  1      Oscar et la dame rose (2009)     drama   \n",
       "1  2                      Cupid (1997)  thriller   \n",
       "2  3  Young, Wild and Wonderful (1980)     adult   \n",
       "3  4             The Secret Sin (1915)     drama   \n",
       "4  5            The Unrecovered (2007)     drama   \n",
       "\n",
       "                                         Description  \n",
       "0  Listening in to a conversation between his doc...  \n",
       "1  A brother and sister with a past incestuous re...  \n",
       "2  As the bus empties the students for their fiel...  \n",
       "3  To help their unemployed father make ends meet...  \n",
       "4  The film's title refers not only to the un-rec...  "
      ]
     },
     "execution_count": 26,
     "metadata": {},
     "output_type": "execute_result"
    }
   ],
   "source": [
    "train.head()"
   ]
  },
  {
   "cell_type": "code",
   "execution_count": 27,
   "id": "85a40ef8",
   "metadata": {
    "scrolled": true
   },
   "outputs": [
    {
     "data": {
      "text/html": [
       "<div>\n",
       "<style scoped>\n",
       "    .dataframe tbody tr th:only-of-type {\n",
       "        vertical-align: middle;\n",
       "    }\n",
       "\n",
       "    .dataframe tbody tr th {\n",
       "        vertical-align: top;\n",
       "    }\n",
       "\n",
       "    .dataframe thead th {\n",
       "        text-align: right;\n",
       "    }\n",
       "</style>\n",
       "<table border=\"1\" class=\"dataframe\">\n",
       "  <thead>\n",
       "    <tr style=\"text-align: right;\">\n",
       "      <th></th>\n",
       "      <th>ID</th>\n",
       "      <th>Title</th>\n",
       "      <th>Genre</th>\n",
       "      <th>Description</th>\n",
       "    </tr>\n",
       "  </thead>\n",
       "  <tbody>\n",
       "    <tr>\n",
       "      <th>0</th>\n",
       "      <td>1</td>\n",
       "      <td>Edgar's Lunch (1998)</td>\n",
       "      <td>thriller</td>\n",
       "      <td>L.R. Brane loves his life - his car, his apart...</td>\n",
       "    </tr>\n",
       "    <tr>\n",
       "      <th>1</th>\n",
       "      <td>2</td>\n",
       "      <td>La guerra de papá (1977)</td>\n",
       "      <td>comedy</td>\n",
       "      <td>Spain, March 1964: Quico is a very naughty chi...</td>\n",
       "    </tr>\n",
       "    <tr>\n",
       "      <th>2</th>\n",
       "      <td>3</td>\n",
       "      <td>Off the Beaten Track (2010)</td>\n",
       "      <td>documentary</td>\n",
       "      <td>One year in the life of Albin and his family o...</td>\n",
       "    </tr>\n",
       "    <tr>\n",
       "      <th>3</th>\n",
       "      <td>4</td>\n",
       "      <td>Meu Amigo Hindu (2015)</td>\n",
       "      <td>drama</td>\n",
       "      <td>His father has died, he hasn't spoken with his...</td>\n",
       "    </tr>\n",
       "    <tr>\n",
       "      <th>4</th>\n",
       "      <td>5</td>\n",
       "      <td>Er nu zhai (1955)</td>\n",
       "      <td>drama</td>\n",
       "      <td>Before he was known internationally as a marti...</td>\n",
       "    </tr>\n",
       "  </tbody>\n",
       "</table>\n",
       "</div>"
      ],
      "text/plain": [
       "  ID                        Title        Genre  \\\n",
       "0  1         Edgar's Lunch (1998)     thriller   \n",
       "1  2     La guerra de papá (1977)       comedy   \n",
       "2  3  Off the Beaten Track (2010)  documentary   \n",
       "3  4       Meu Amigo Hindu (2015)        drama   \n",
       "4  5            Er nu zhai (1955)        drama   \n",
       "\n",
       "                                         Description  \n",
       "0  L.R. Brane loves his life - his car, his apart...  \n",
       "1  Spain, March 1964: Quico is a very naughty chi...  \n",
       "2  One year in the life of Albin and his family o...  \n",
       "3  His father has died, he hasn't spoken with his...  \n",
       "4  Before he was known internationally as a marti...  "
      ]
     },
     "execution_count": 27,
     "metadata": {},
     "output_type": "execute_result"
    }
   ],
   "source": [
    "test.head()"
   ]
  },
  {
   "cell_type": "code",
   "execution_count": 28,
   "id": "1a7d8175",
   "metadata": {
    "scrolled": true
   },
   "outputs": [
    {
     "data": {
      "text/plain": [
       "ID             object\n",
       "Title          object\n",
       "Genre          object\n",
       "Description    object\n",
       "dtype: object"
      ]
     },
     "execution_count": 28,
     "metadata": {},
     "output_type": "execute_result"
    }
   ],
   "source": [
    "train.dtypes"
   ]
  },
  {
   "cell_type": "code",
   "execution_count": 29,
   "id": "cb87606d",
   "metadata": {},
   "outputs": [
    {
     "data": {
      "text/plain": [
       "ID             object\n",
       "Title          object\n",
       "Genre          object\n",
       "Description    object\n",
       "dtype: object"
      ]
     },
     "execution_count": 29,
     "metadata": {},
     "output_type": "execute_result"
    }
   ],
   "source": [
    "test.dtypes"
   ]
  },
  {
   "cell_type": "markdown",
   "id": "8dbb9db8",
   "metadata": {},
   "source": [
    "# Step 2: EDA"
   ]
  },
  {
   "cell_type": "code",
   "execution_count": 30,
   "id": "0f91a863",
   "metadata": {
    "scrolled": true
   },
   "outputs": [
    {
     "data": {
      "text/plain": [
       "ID             0\n",
       "Title          0\n",
       "Genre          0\n",
       "Description    0\n",
       "dtype: int64"
      ]
     },
     "execution_count": 30,
     "metadata": {},
     "output_type": "execute_result"
    }
   ],
   "source": [
    "train.isnull().sum()"
   ]
  },
  {
   "cell_type": "code",
   "execution_count": 31,
   "id": "884052a8",
   "metadata": {
    "scrolled": false
   },
   "outputs": [
    {
     "data": {
      "text/plain": [
       "ID             0\n",
       "Title          0\n",
       "Genre          0\n",
       "Description    0\n",
       "dtype: int64"
      ]
     },
     "execution_count": 31,
     "metadata": {},
     "output_type": "execute_result"
    }
   ],
   "source": [
    "test.isnull().sum()"
   ]
  },
  {
   "cell_type": "code",
   "execution_count": 34,
   "id": "972ae50e",
   "metadata": {},
   "outputs": [],
   "source": [
    "train.drop(columns=['ID','Title'],axis=1,inplace=True)\n",
    "test.drop(columns=['ID','Title'],axis=1,inplace=True)"
   ]
  },
  {
   "cell_type": "code",
   "execution_count": 35,
   "id": "a28c762b",
   "metadata": {},
   "outputs": [
    {
     "data": {
      "text/html": [
       "<div>\n",
       "<style scoped>\n",
       "    .dataframe tbody tr th:only-of-type {\n",
       "        vertical-align: middle;\n",
       "    }\n",
       "\n",
       "    .dataframe tbody tr th {\n",
       "        vertical-align: top;\n",
       "    }\n",
       "\n",
       "    .dataframe thead th {\n",
       "        text-align: right;\n",
       "    }\n",
       "</style>\n",
       "<table border=\"1\" class=\"dataframe\">\n",
       "  <thead>\n",
       "    <tr style=\"text-align: right;\">\n",
       "      <th></th>\n",
       "      <th>Genre</th>\n",
       "      <th>Description</th>\n",
       "    </tr>\n",
       "  </thead>\n",
       "  <tbody>\n",
       "    <tr>\n",
       "      <th>0</th>\n",
       "      <td>drama</td>\n",
       "      <td>Listening in to a conversation between his doc...</td>\n",
       "    </tr>\n",
       "    <tr>\n",
       "      <th>1</th>\n",
       "      <td>thriller</td>\n",
       "      <td>A brother and sister with a past incestuous re...</td>\n",
       "    </tr>\n",
       "    <tr>\n",
       "      <th>2</th>\n",
       "      <td>adult</td>\n",
       "      <td>As the bus empties the students for their fiel...</td>\n",
       "    </tr>\n",
       "    <tr>\n",
       "      <th>3</th>\n",
       "      <td>drama</td>\n",
       "      <td>To help their unemployed father make ends meet...</td>\n",
       "    </tr>\n",
       "    <tr>\n",
       "      <th>4</th>\n",
       "      <td>drama</td>\n",
       "      <td>The film's title refers not only to the un-rec...</td>\n",
       "    </tr>\n",
       "  </tbody>\n",
       "</table>\n",
       "</div>"
      ],
      "text/plain": [
       "      Genre                                        Description\n",
       "0     drama  Listening in to a conversation between his doc...\n",
       "1  thriller  A brother and sister with a past incestuous re...\n",
       "2     adult  As the bus empties the students for their fiel...\n",
       "3     drama  To help their unemployed father make ends meet...\n",
       "4     drama  The film's title refers not only to the un-rec..."
      ]
     },
     "execution_count": 35,
     "metadata": {},
     "output_type": "execute_result"
    }
   ],
   "source": [
    "train.head()"
   ]
  },
  {
   "cell_type": "code",
   "execution_count": 36,
   "id": "9593100d",
   "metadata": {
    "scrolled": true
   },
   "outputs": [
    {
     "data": {
      "text/html": [
       "<div>\n",
       "<style scoped>\n",
       "    .dataframe tbody tr th:only-of-type {\n",
       "        vertical-align: middle;\n",
       "    }\n",
       "\n",
       "    .dataframe tbody tr th {\n",
       "        vertical-align: top;\n",
       "    }\n",
       "\n",
       "    .dataframe thead th {\n",
       "        text-align: right;\n",
       "    }\n",
       "</style>\n",
       "<table border=\"1\" class=\"dataframe\">\n",
       "  <thead>\n",
       "    <tr style=\"text-align: right;\">\n",
       "      <th></th>\n",
       "      <th>Genre</th>\n",
       "      <th>Description</th>\n",
       "    </tr>\n",
       "  </thead>\n",
       "  <tbody>\n",
       "    <tr>\n",
       "      <th>0</th>\n",
       "      <td>thriller</td>\n",
       "      <td>L.R. Brane loves his life - his car, his apart...</td>\n",
       "    </tr>\n",
       "    <tr>\n",
       "      <th>1</th>\n",
       "      <td>comedy</td>\n",
       "      <td>Spain, March 1964: Quico is a very naughty chi...</td>\n",
       "    </tr>\n",
       "    <tr>\n",
       "      <th>2</th>\n",
       "      <td>documentary</td>\n",
       "      <td>One year in the life of Albin and his family o...</td>\n",
       "    </tr>\n",
       "    <tr>\n",
       "      <th>3</th>\n",
       "      <td>drama</td>\n",
       "      <td>His father has died, he hasn't spoken with his...</td>\n",
       "    </tr>\n",
       "    <tr>\n",
       "      <th>4</th>\n",
       "      <td>drama</td>\n",
       "      <td>Before he was known internationally as a marti...</td>\n",
       "    </tr>\n",
       "  </tbody>\n",
       "</table>\n",
       "</div>"
      ],
      "text/plain": [
       "         Genre                                        Description\n",
       "0     thriller  L.R. Brane loves his life - his car, his apart...\n",
       "1       comedy  Spain, March 1964: Quico is a very naughty chi...\n",
       "2  documentary  One year in the life of Albin and his family o...\n",
       "3        drama  His father has died, he hasn't spoken with his...\n",
       "4        drama  Before he was known internationally as a marti..."
      ]
     },
     "execution_count": 36,
     "metadata": {},
     "output_type": "execute_result"
    }
   ],
   "source": [
    "test.head()"
   ]
  },
  {
   "cell_type": "code",
   "execution_count": 37,
   "id": "c11c3236",
   "metadata": {
    "scrolled": true
   },
   "outputs": [
    {
     "data": {
      "text/html": [
       "<div>\n",
       "<style scoped>\n",
       "    .dataframe tbody tr th:only-of-type {\n",
       "        vertical-align: middle;\n",
       "    }\n",
       "\n",
       "    .dataframe tbody tr th {\n",
       "        vertical-align: top;\n",
       "    }\n",
       "\n",
       "    .dataframe thead th {\n",
       "        text-align: right;\n",
       "    }\n",
       "</style>\n",
       "<table border=\"1\" class=\"dataframe\">\n",
       "  <thead>\n",
       "    <tr style=\"text-align: right;\">\n",
       "      <th></th>\n",
       "      <th>Genre</th>\n",
       "      <th>Description</th>\n",
       "    </tr>\n",
       "  </thead>\n",
       "  <tbody>\n",
       "    <tr>\n",
       "      <th>0</th>\n",
       "      <td>drama</td>\n",
       "      <td>Listening in to a conversation between his doc...</td>\n",
       "    </tr>\n",
       "    <tr>\n",
       "      <th>1</th>\n",
       "      <td>thriller</td>\n",
       "      <td>A brother and sister with a past incestuous re...</td>\n",
       "    </tr>\n",
       "    <tr>\n",
       "      <th>2</th>\n",
       "      <td>adult</td>\n",
       "      <td>As the bus empties the students for their fiel...</td>\n",
       "    </tr>\n",
       "    <tr>\n",
       "      <th>3</th>\n",
       "      <td>drama</td>\n",
       "      <td>To help their unemployed father make ends meet...</td>\n",
       "    </tr>\n",
       "    <tr>\n",
       "      <th>4</th>\n",
       "      <td>drama</td>\n",
       "      <td>The film's title refers not only to the un-rec...</td>\n",
       "    </tr>\n",
       "  </tbody>\n",
       "</table>\n",
       "</div>"
      ],
      "text/plain": [
       "      Genre                                        Description\n",
       "0     drama  Listening in to a conversation between his doc...\n",
       "1  thriller  A brother and sister with a past incestuous re...\n",
       "2     adult  As the bus empties the students for their fiel...\n",
       "3     drama  To help their unemployed father make ends meet...\n",
       "4     drama  The film's title refers not only to the un-rec..."
      ]
     },
     "execution_count": 37,
     "metadata": {},
     "output_type": "execute_result"
    }
   ],
   "source": [
    "df=pd.concat((train,test))\n",
    "df.head()"
   ]
  },
  {
   "cell_type": "code",
   "execution_count": 38,
   "id": "4b6cd2d4",
   "metadata": {},
   "outputs": [
    {
     "name": "stderr",
     "output_type": "stream",
     "text": [
      "[nltk_data] Downloading package stopwords to\n",
      "[nltk_data]     C:\\Users\\tanee\\AppData\\Roaming\\nltk_data...\n",
      "[nltk_data]   Package stopwords is already up-to-date!\n"
     ]
    }
   ],
   "source": [
    "import nltk\n",
    "nltk.download('stopwords')\n",
    "import string\n",
    "from nltk.corpus import stopwords\n",
    "from nltk.tokenize import word_tokenize\n",
    "from gensim.utils import simple_preprocess\n",
    "from gensim.parsing.preprocessing import remove_stopwords\n",
    "\n",
    "stop_words = set(stopwords.words('english'))\n",
    "\n",
    "def preprocess(s):\n",
    "    # 1. Convert to lowercase\n",
    "    s = s.lower()\n",
    "    \n",
    "    # 2. Remove punctuation\n",
    "    s = s.translate(str.maketrans('', '', string.punctuation))\n",
    "    \n",
    "    # 3. Tokenize using gensim's simple_preprocess\n",
    "    tokens = simple_preprocess(s, deacc=True)  # deacc=True removes punctuation as well\n",
    "    \n",
    "    # 4. Remove stopwords using gensim\n",
    "    tokens = [word for word in tokens if word not in stop_words]\n",
    "    \n",
    "    # 5. Join tokens back into a single string\n",
    "    processed_text = ' '.join(tokens)\n",
    "    \n",
    "    return processed_text\n"
   ]
  },
  {
   "cell_type": "code",
   "execution_count": 39,
   "id": "98865ba6",
   "metadata": {},
   "outputs": [],
   "source": [
    "df['Description_new']=df['Description'].apply(preprocess)"
   ]
  },
  {
   "cell_type": "code",
   "execution_count": 40,
   "id": "34c5760c",
   "metadata": {},
   "outputs": [
    {
     "data": {
      "text/html": [
       "<div>\n",
       "<style scoped>\n",
       "    .dataframe tbody tr th:only-of-type {\n",
       "        vertical-align: middle;\n",
       "    }\n",
       "\n",
       "    .dataframe tbody tr th {\n",
       "        vertical-align: top;\n",
       "    }\n",
       "\n",
       "    .dataframe thead th {\n",
       "        text-align: right;\n",
       "    }\n",
       "</style>\n",
       "<table border=\"1\" class=\"dataframe\">\n",
       "  <thead>\n",
       "    <tr style=\"text-align: right;\">\n",
       "      <th></th>\n",
       "      <th>Genre</th>\n",
       "      <th>Description</th>\n",
       "      <th>Description_new</th>\n",
       "    </tr>\n",
       "  </thead>\n",
       "  <tbody>\n",
       "    <tr>\n",
       "      <th>0</th>\n",
       "      <td>drama</td>\n",
       "      <td>Listening in to a conversation between his doc...</td>\n",
       "      <td>listening conversation doctor parents yearold ...</td>\n",
       "    </tr>\n",
       "    <tr>\n",
       "      <th>1</th>\n",
       "      <td>thriller</td>\n",
       "      <td>A brother and sister with a past incestuous re...</td>\n",
       "      <td>brother sister past incestuous relationship cu...</td>\n",
       "    </tr>\n",
       "    <tr>\n",
       "      <th>2</th>\n",
       "      <td>adult</td>\n",
       "      <td>As the bus empties the students for their fiel...</td>\n",
       "      <td>bus empties students field trip museum natural...</td>\n",
       "    </tr>\n",
       "    <tr>\n",
       "      <th>3</th>\n",
       "      <td>drama</td>\n",
       "      <td>To help their unemployed father make ends meet...</td>\n",
       "      <td>help unemployed father make ends meet edith tw...</td>\n",
       "    </tr>\n",
       "    <tr>\n",
       "      <th>4</th>\n",
       "      <td>drama</td>\n",
       "      <td>The film's title refers not only to the un-rec...</td>\n",
       "      <td>films title refers unrecovered bodies ground z...</td>\n",
       "    </tr>\n",
       "  </tbody>\n",
       "</table>\n",
       "</div>"
      ],
      "text/plain": [
       "      Genre                                        Description  \\\n",
       "0     drama  Listening in to a conversation between his doc...   \n",
       "1  thriller  A brother and sister with a past incestuous re...   \n",
       "2     adult  As the bus empties the students for their fiel...   \n",
       "3     drama  To help their unemployed father make ends meet...   \n",
       "4     drama  The film's title refers not only to the un-rec...   \n",
       "\n",
       "                                     Description_new  \n",
       "0  listening conversation doctor parents yearold ...  \n",
       "1  brother sister past incestuous relationship cu...  \n",
       "2  bus empties students field trip museum natural...  \n",
       "3  help unemployed father make ends meet edith tw...  \n",
       "4  films title refers unrecovered bodies ground z...  "
      ]
     },
     "execution_count": 40,
     "metadata": {},
     "output_type": "execute_result"
    }
   ],
   "source": [
    "df.head()"
   ]
  },
  {
   "cell_type": "code",
   "execution_count": 41,
   "id": "ca9e237e",
   "metadata": {},
   "outputs": [],
   "source": [
    "from sklearn.preprocessing import LabelEncoder\n",
    "label_encoder = LabelEncoder()\n",
    "df['Genre_encoded'] = label_encoder.fit_transform(df['Genre'])\n",
    "\n",
    "\n",
    "class_names= list(label_encoder.classes_)"
   ]
  },
  {
   "cell_type": "code",
   "execution_count": 42,
   "id": "38738b4e",
   "metadata": {},
   "outputs": [
    {
     "data": {
      "text/html": [
       "<div>\n",
       "<style scoped>\n",
       "    .dataframe tbody tr th:only-of-type {\n",
       "        vertical-align: middle;\n",
       "    }\n",
       "\n",
       "    .dataframe tbody tr th {\n",
       "        vertical-align: top;\n",
       "    }\n",
       "\n",
       "    .dataframe thead th {\n",
       "        text-align: right;\n",
       "    }\n",
       "</style>\n",
       "<table border=\"1\" class=\"dataframe\">\n",
       "  <thead>\n",
       "    <tr style=\"text-align: right;\">\n",
       "      <th></th>\n",
       "      <th>Genre</th>\n",
       "      <th>Description</th>\n",
       "      <th>Description_new</th>\n",
       "      <th>Genre_encoded</th>\n",
       "    </tr>\n",
       "  </thead>\n",
       "  <tbody>\n",
       "    <tr>\n",
       "      <th>0</th>\n",
       "      <td>drama</td>\n",
       "      <td>Listening in to a conversation between his doc...</td>\n",
       "      <td>listening conversation doctor parents yearold ...</td>\n",
       "      <td>8</td>\n",
       "    </tr>\n",
       "    <tr>\n",
       "      <th>1</th>\n",
       "      <td>thriller</td>\n",
       "      <td>A brother and sister with a past incestuous re...</td>\n",
       "      <td>brother sister past incestuous relationship cu...</td>\n",
       "      <td>24</td>\n",
       "    </tr>\n",
       "    <tr>\n",
       "      <th>2</th>\n",
       "      <td>adult</td>\n",
       "      <td>As the bus empties the students for their fiel...</td>\n",
       "      <td>bus empties students field trip museum natural...</td>\n",
       "      <td>1</td>\n",
       "    </tr>\n",
       "    <tr>\n",
       "      <th>3</th>\n",
       "      <td>drama</td>\n",
       "      <td>To help their unemployed father make ends meet...</td>\n",
       "      <td>help unemployed father make ends meet edith tw...</td>\n",
       "      <td>8</td>\n",
       "    </tr>\n",
       "    <tr>\n",
       "      <th>4</th>\n",
       "      <td>drama</td>\n",
       "      <td>The film's title refers not only to the un-rec...</td>\n",
       "      <td>films title refers unrecovered bodies ground z...</td>\n",
       "      <td>8</td>\n",
       "    </tr>\n",
       "  </tbody>\n",
       "</table>\n",
       "</div>"
      ],
      "text/plain": [
       "      Genre                                        Description  \\\n",
       "0     drama  Listening in to a conversation between his doc...   \n",
       "1  thriller  A brother and sister with a past incestuous re...   \n",
       "2     adult  As the bus empties the students for their fiel...   \n",
       "3     drama  To help their unemployed father make ends meet...   \n",
       "4     drama  The film's title refers not only to the un-rec...   \n",
       "\n",
       "                                     Description_new  Genre_encoded  \n",
       "0  listening conversation doctor parents yearold ...              8  \n",
       "1  brother sister past incestuous relationship cu...             24  \n",
       "2  bus empties students field trip museum natural...              1  \n",
       "3  help unemployed father make ends meet edith tw...              8  \n",
       "4  films title refers unrecovered bodies ground z...              8  "
      ]
     },
     "execution_count": 42,
     "metadata": {},
     "output_type": "execute_result"
    }
   ],
   "source": [
    "df.head()"
   ]
  },
  {
   "cell_type": "markdown",
   "id": "f6b72c21",
   "metadata": {},
   "source": [
    "# Step 3: Train models"
   ]
  },
  {
   "cell_type": "code",
   "execution_count": 43,
   "id": "a3e17770",
   "metadata": {},
   "outputs": [],
   "source": [
    "from sklearn.model_selection import train_test_split\n",
    "x = df[\"Description_new\"]\n",
    "y = df[\"Genre\"]\n",
    "\n",
    "x_train, x_test, y_train, y_test = train_test_split(x, y, test_size = 0.5)"
   ]
  },
  {
   "cell_type": "code",
   "execution_count": 44,
   "id": "2558024b",
   "metadata": {},
   "outputs": [
    {
     "data": {
      "text/html": [
       "<div>\n",
       "<style scoped>\n",
       "    .dataframe tbody tr th:only-of-type {\n",
       "        vertical-align: middle;\n",
       "    }\n",
       "\n",
       "    .dataframe tbody tr th {\n",
       "        vertical-align: top;\n",
       "    }\n",
       "\n",
       "    .dataframe thead th {\n",
       "        text-align: right;\n",
       "    }\n",
       "</style>\n",
       "<table border=\"1\" class=\"dataframe\">\n",
       "  <thead>\n",
       "    <tr style=\"text-align: right;\">\n",
       "      <th></th>\n",
       "      <th>Genre</th>\n",
       "      <th>Description</th>\n",
       "      <th>Description_new</th>\n",
       "      <th>Genre_encoded</th>\n",
       "    </tr>\n",
       "  </thead>\n",
       "  <tbody>\n",
       "    <tr>\n",
       "      <th>0</th>\n",
       "      <td>drama</td>\n",
       "      <td>Listening in to a conversation between his doc...</td>\n",
       "      <td>listening conversation doctor parents yearold ...</td>\n",
       "      <td>8</td>\n",
       "    </tr>\n",
       "    <tr>\n",
       "      <th>1</th>\n",
       "      <td>thriller</td>\n",
       "      <td>A brother and sister with a past incestuous re...</td>\n",
       "      <td>brother sister past incestuous relationship cu...</td>\n",
       "      <td>24</td>\n",
       "    </tr>\n",
       "    <tr>\n",
       "      <th>2</th>\n",
       "      <td>adult</td>\n",
       "      <td>As the bus empties the students for their fiel...</td>\n",
       "      <td>bus empties students field trip museum natural...</td>\n",
       "      <td>1</td>\n",
       "    </tr>\n",
       "    <tr>\n",
       "      <th>3</th>\n",
       "      <td>drama</td>\n",
       "      <td>To help their unemployed father make ends meet...</td>\n",
       "      <td>help unemployed father make ends meet edith tw...</td>\n",
       "      <td>8</td>\n",
       "    </tr>\n",
       "    <tr>\n",
       "      <th>4</th>\n",
       "      <td>drama</td>\n",
       "      <td>The film's title refers not only to the un-rec...</td>\n",
       "      <td>films title refers unrecovered bodies ground z...</td>\n",
       "      <td>8</td>\n",
       "    </tr>\n",
       "  </tbody>\n",
       "</table>\n",
       "</div>"
      ],
      "text/plain": [
       "      Genre                                        Description  \\\n",
       "0     drama  Listening in to a conversation between his doc...   \n",
       "1  thriller  A brother and sister with a past incestuous re...   \n",
       "2     adult  As the bus empties the students for their fiel...   \n",
       "3     drama  To help their unemployed father make ends meet...   \n",
       "4     drama  The film's title refers not only to the un-rec...   \n",
       "\n",
       "                                     Description_new  Genre_encoded  \n",
       "0  listening conversation doctor parents yearold ...              8  \n",
       "1  brother sister past incestuous relationship cu...             24  \n",
       "2  bus empties students field trip museum natural...              1  \n",
       "3  help unemployed father make ends meet edith tw...              8  \n",
       "4  films title refers unrecovered bodies ground z...              8  "
      ]
     },
     "execution_count": 44,
     "metadata": {},
     "output_type": "execute_result"
    }
   ],
   "source": [
    "df.head()"
   ]
  },
  {
   "cell_type": "code",
   "execution_count": 45,
   "id": "ae11605f",
   "metadata": {},
   "outputs": [],
   "source": [
    "from sklearn.feature_extraction.text import CountVectorizer\n",
    "vectorizer = CountVectorizer()\n",
    "X_train_vectorize = vectorizer.fit_transform(x_train)\n",
    "X_test_vectorize =  vectorizer.transform(x_test)"
   ]
  },
  {
   "cell_type": "markdown",
   "id": "84c9ac37",
   "metadata": {},
   "source": [
    "# 1.MultinomialNB()"
   ]
  },
  {
   "cell_type": "code",
   "execution_count": 46,
   "id": "0f9d10cf",
   "metadata": {
    "scrolled": true
   },
   "outputs": [
    {
     "name": "stderr",
     "output_type": "stream",
     "text": [
      "C:\\ProgramData\\anaconda3\\Lib\\site-packages\\sklearn\\metrics\\_classification.py:1469: UndefinedMetricWarning: Precision and F-score are ill-defined and being set to 0.0 in labels with no predicted samples. Use `zero_division` parameter to control this behavior.\n",
      "  _warn_prf(average, modifier, msg_start, len(result))\n",
      "C:\\ProgramData\\anaconda3\\Lib\\site-packages\\sklearn\\metrics\\_classification.py:1469: UndefinedMetricWarning: Precision and F-score are ill-defined and being set to 0.0 in labels with no predicted samples. Use `zero_division` parameter to control this behavior.\n",
      "  _warn_prf(average, modifier, msg_start, len(result))\n"
     ]
    },
    {
     "name": "stdout",
     "output_type": "stream",
     "text": [
      "Naive Bayes Report:\n",
      "              precision    recall  f1-score   support\n",
      "\n",
      "      action       0.59      0.04      0.07      1303\n",
      "       adult       0.72      0.02      0.04       615\n",
      "   adventure       0.53      0.07      0.12       741\n",
      "   animation       0.00      0.00      0.00       503\n",
      "   biography       0.00      0.00      0.00       266\n",
      "      comedy       0.53      0.46      0.49      7393\n",
      "       crime       0.00      0.00      0.00       504\n",
      " documentary       0.57      0.90      0.70     13205\n",
      "       drama       0.47      0.83      0.60     13680\n",
      "      family       0.25      0.00      0.00       828\n",
      "     fantasy       0.00      0.00      0.00       321\n",
      "   game-show       1.00      0.17      0.30       196\n",
      "     history       0.00      0.00      0.00       231\n",
      "      horror       0.76      0.31      0.44      2176\n",
      "       music       0.88      0.07      0.13       724\n",
      "     musical       1.00      0.00      0.01       263\n",
      "     mystery       0.00      0.00      0.00       301\n",
      "        news       0.00      0.00      0.00       182\n",
      "  reality-tv       0.33      0.00      0.00       859\n",
      "     romance       0.00      0.00      0.00       678\n",
      "      sci-fi       1.00      0.01      0.02       648\n",
      "       short       0.65      0.12      0.20      5061\n",
      "       sport       0.84      0.11      0.20       449\n",
      "   talk-show       0.00      0.00      0.00       396\n",
      "    thriller       0.24      0.01      0.01      1554\n",
      "         war       0.00      0.00      0.00       133\n",
      "     western       0.98      0.58      0.73       997\n",
      "\n",
      "    accuracy                           0.53     54207\n",
      "   macro avg       0.42      0.14      0.15     54207\n",
      "weighted avg       0.52      0.53      0.45     54207\n",
      "\n"
     ]
    },
    {
     "name": "stderr",
     "output_type": "stream",
     "text": [
      "C:\\ProgramData\\anaconda3\\Lib\\site-packages\\sklearn\\metrics\\_classification.py:1469: UndefinedMetricWarning: Precision and F-score are ill-defined and being set to 0.0 in labels with no predicted samples. Use `zero_division` parameter to control this behavior.\n",
      "  _warn_prf(average, modifier, msg_start, len(result))\n"
     ]
    }
   ],
   "source": [
    "from sklearn.naive_bayes import MultinomialNB\n",
    "from sklearn.metrics import classification_report\n",
    "# mnb = MultinomialNB()\n",
    "# mnb.fit(x_train_vectorize ,y_train)\n",
    "# print(\"Model Score on Training data\",mnb.score(x_train_vectorize ,y_train))\n",
    "# print(\"Model Score on Training data\",mnb.score(x_test_vectorize ,y_test))\n",
    "# y_pred = mnb.predict(x_test_vectorize)\n",
    "\n",
    "# print(classification_report(y_pred ,y_test))\n",
    "\n",
    "\n",
    "\n",
    "nb_model = MultinomialNB()\n",
    "nb_model.fit(X_train_vectorize, y_train)\n",
    "y_pred_nb = nb_model.predict(X_test_vectorize)\n",
    "nb_report = classification_report(y_test, y_pred_nb)\n",
    "print(\"Naive Bayes Report:\")\n",
    "print(nb_report)\n",
    "     "
   ]
  },
  {
   "cell_type": "markdown",
   "id": "508904b3",
   "metadata": {},
   "source": [
    "# 2.Logistic Regression"
   ]
  },
  {
   "cell_type": "code",
   "execution_count": 47,
   "id": "5fdcc08f",
   "metadata": {},
   "outputs": [
    {
     "name": "stdout",
     "output_type": "stream",
     "text": [
      "Logistic Regression Report:\n",
      "              precision    recall  f1-score   support\n",
      "\n",
      "      action       0.42      0.33      0.37      1303\n",
      "       adult       0.64      0.40      0.49       615\n",
      "   adventure       0.40      0.23      0.29       741\n",
      "   animation       0.36      0.15      0.21       503\n",
      "   biography       0.03      0.00      0.01       266\n",
      "      comedy       0.52      0.58      0.55      7393\n",
      "       crime       0.25      0.09      0.13       504\n",
      " documentary       0.71      0.78      0.74     13205\n",
      "       drama       0.57      0.69      0.62     13680\n",
      "      family       0.36      0.18      0.24       828\n",
      "     fantasy       0.28      0.10      0.14       321\n",
      "   game-show       0.87      0.60      0.71       196\n",
      "     history       0.12      0.03      0.04       231\n",
      "      horror       0.62      0.61      0.62      2176\n",
      "       music       0.59      0.51      0.55       724\n",
      "     musical       0.22      0.08      0.12       263\n",
      "     mystery       0.22      0.07      0.11       301\n",
      "        news       0.38      0.13      0.20       182\n",
      "  reality-tv       0.43      0.30      0.35       859\n",
      "     romance       0.28      0.12      0.16       678\n",
      "      sci-fi       0.48      0.31      0.37       648\n",
      "       short       0.38      0.38      0.38      5061\n",
      "       sport       0.66      0.37      0.47       449\n",
      "   talk-show       0.57      0.30      0.39       396\n",
      "    thriller       0.28      0.21      0.24      1554\n",
      "         war       0.51      0.18      0.27       133\n",
      "     western       0.88      0.77      0.82       997\n",
      "\n",
      "    accuracy                           0.57     54207\n",
      "   macro avg       0.45      0.31      0.36     54207\n",
      "weighted avg       0.55      0.57      0.55     54207\n",
      "\n"
     ]
    }
   ],
   "source": [
    "from sklearn.linear_model import LogisticRegression\n",
    "# lr = LogisticRegression()\n",
    "# lr.fit(x_train_vectorize ,y_train)\n",
    "# print(\"Model Score on Training data\",lr.score(x_train_vectorize ,y_train))\n",
    "# print(\"Model Score on Training data\",lr.score(x_test_vectorize,y_test))\n",
    "# y_pred = lr.predict(x_test_vectorize)\n",
    "# print(classification_report(y_pred ,y_test))\n",
    "\n",
    "\n",
    "lr_model = LogisticRegression(max_iter=1000, random_state=42)\n",
    "lr_model.fit(X_train_vectorize, y_train)\n",
    "y_pred_lr = lr_model.predict(X_test_vectorize)\n",
    "lr_report = classification_report(y_test, y_pred_lr)\n",
    "print(\"Logistic Regression Report:\")\n",
    "print(lr_report)"
   ]
  },
  {
   "cell_type": "markdown",
   "id": "1f398edf",
   "metadata": {},
   "source": [
    "# 3.LinearSVC"
   ]
  },
  {
   "cell_type": "code",
   "execution_count": 49,
   "id": "d364ec72",
   "metadata": {},
   "outputs": [
    {
     "name": "stderr",
     "output_type": "stream",
     "text": [
      "C:\\ProgramData\\anaconda3\\Lib\\site-packages\\sklearn\\svm\\_classes.py:32: FutureWarning: The default value of `dual` will change from `True` to `'auto'` in 1.5. Set the value of `dual` explicitly to suppress the warning.\n",
      "  warnings.warn(\n",
      "C:\\ProgramData\\anaconda3\\Lib\\site-packages\\sklearn\\svm\\_base.py:1242: ConvergenceWarning: Liblinear failed to converge, increase the number of iterations.\n",
      "  warnings.warn(\n"
     ]
    },
    {
     "name": "stdout",
     "output_type": "stream",
     "text": [
      "Model Score on Training data 0.999354326931946\n",
      "Model Score on Training data 0.5182356522220377\n",
      "              precision    recall  f1-score   support\n",
      "\n",
      "      action       0.28      0.32      0.30      1142\n",
      "       adult       0.39      0.53      0.45       457\n",
      "   adventure       0.22      0.28      0.25       587\n",
      "   animation       0.13      0.21      0.16       311\n",
      "   biography       0.02      0.04      0.03       143\n",
      "      comedy       0.52      0.49      0.50      7962\n",
      "       crime       0.11      0.16      0.13       323\n",
      " documentary       0.72      0.69      0.71     13688\n",
      "       drama       0.60      0.55      0.57     14924\n",
      "      family       0.18      0.27      0.21       554\n",
      "     fantasy       0.09      0.13      0.11       239\n",
      "   game-show       0.62      0.71      0.66       171\n",
      "     history       0.03      0.05      0.03       126\n",
      "      horror       0.57      0.56      0.57      2239\n",
      "       music       0.48      0.52      0.50       677\n",
      "     musical       0.07      0.11      0.09       169\n",
      "     mystery       0.08      0.12      0.09       207\n",
      "        news       0.14      0.23      0.17       108\n",
      "  reality-tv       0.28      0.35      0.31       701\n",
      "     romance       0.10      0.16      0.12       430\n",
      "      sci-fi       0.29      0.36      0.32       524\n",
      "       short       0.35      0.33      0.34      5427\n",
      "       sport       0.36      0.58      0.44       274\n",
      "   talk-show       0.29      0.37      0.32       306\n",
      "    thriller       0.22      0.23      0.22      1483\n",
      "         war       0.19      0.29      0.23        85\n",
      "     western       0.76      0.80      0.78       950\n",
      "\n",
      "    accuracy                           0.52     54207\n",
      "   macro avg       0.30      0.35      0.32     54207\n",
      "weighted avg       0.54      0.52      0.53     54207\n",
      "\n"
     ]
    }
   ],
   "source": [
    "from sklearn.svm import LinearSVC\n",
    "\n",
    "\n",
    "svm = LinearSVC()\n",
    "svm.fit(X_train_vectorize ,y_train)\n",
    "print(\"Model Score on Training data\",svm.score(X_train_vectorize ,y_train))\n",
    "print(\"Model Score on Training data\",svm.score(X_test_vectorize ,y_test))\n",
    "y_pred = svm.predict(X_test_vectorize)\n",
    "print(classification_report(y_pred ,y_test))"
   ]
  },
  {
   "cell_type": "code",
   "execution_count": null,
   "id": "aeae914f",
   "metadata": {},
   "outputs": [],
   "source": []
  }
 ],
 "metadata": {
  "kernelspec": {
   "display_name": "Python 3 (ipykernel)",
   "language": "python",
   "name": "python3"
  },
  "language_info": {
   "codemirror_mode": {
    "name": "ipython",
    "version": 3
   },
   "file_extension": ".py",
   "mimetype": "text/x-python",
   "name": "python",
   "nbconvert_exporter": "python",
   "pygments_lexer": "ipython3",
   "version": "3.11.5"
  }
 },
 "nbformat": 4,
 "nbformat_minor": 5
}
